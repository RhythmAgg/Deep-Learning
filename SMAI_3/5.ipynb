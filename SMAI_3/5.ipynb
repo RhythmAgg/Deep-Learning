{
 "cells": [
  {
   "cell_type": "code",
   "execution_count": 96,
   "id": "e9d667a0",
   "metadata": {},
   "outputs": [],
   "source": [
    "import torch\n",
    "import numpy as np\n",
    "from torch import nn\n",
    "import torch.optim as optim\n",
    "from torchvision import datasets, transforms\n",
    "import matplotlib.pyplot as plt\n",
    "from torch.utils.data import Dataset\n",
    "from sklearn.metrics import accuracy_score"
   ]
  },
  {
   "cell_type": "code",
   "execution_count": 97,
   "id": "e72bea4b",
   "metadata": {},
   "outputs": [],
   "source": [
    "transform = transforms.Compose([transforms.ToTensor()])\n",
    "train_path = 'Data/double_mnist_seed_123_image_size_64_64/train/'\n",
    "val_path = 'Data/double_mnist_seed_123_image_size_64_64/val/'\n",
    "test_path = 'Data/double_mnist_seed_123_image_size_64_64/test/'\n",
    "train_dataset = datasets.ImageFolder(train_path, transform=transform)\n",
    "val_dataset = datasets.ImageFolder(val_path, transform=transform)\n",
    "test_dataset = datasets.ImageFolder(test_path, transform=transform)\n",
    "same_digits = ['00','11','22','33','44','55','66','77','88','99']"
   ]
  },
  {
   "cell_type": "code",
   "execution_count": 98,
   "id": "409d0449",
   "metadata": {},
   "outputs": [],
   "source": [
    "classes = train_dataset.classes\n",
    "updated_train_dataset = []\n",
    "for img,label in train_dataset:\n",
    "    if(classes[label] not in same_digits):\n",
    "        num = int(classes[label])\n",
    "        updated_train_dataset.append((img,torch.tensor([num//10,num % 10])))"
   ]
  },
  {
   "cell_type": "code",
   "execution_count": 99,
   "id": "ade451db",
   "metadata": {},
   "outputs": [],
   "source": [
    "classes = test_dataset.classes\n",
    "updated_test_dataset = []\n",
    "for img,label in test_dataset:\n",
    "    if(classes[label] not in same_digits):\n",
    "        num = int(classes[label])\n",
    "        updated_test_dataset.append((img,torch.tensor([num//10,num % 10])))"
   ]
  },
  {
   "cell_type": "code",
   "execution_count": 100,
   "id": "26bce52b",
   "metadata": {},
   "outputs": [],
   "source": [
    "classes = val_dataset.classes\n",
    "updated_val_dataset = []\n",
    "for img,label in val_dataset:\n",
    "    if(classes[label] not in same_digits):\n",
    "        num = int(classes[label])\n",
    "        updated_val_dataset.append((img,torch.tensor([num//10,num % 10])))"
   ]
  },
  {
   "cell_type": "code",
   "execution_count": 28,
   "id": "04f56861",
   "metadata": {},
   "outputs": [],
   "source": [
    "# classes = test_dataset.classes\n",
    "# updated_test_dataset = []\n",
    "# for img,label in test_dataset:\n",
    "#     if(classes[label] not in same_digits):\n",
    "#         num = int(classes[label])\n",
    "#         updated_test_dataset.append((img,torch.tensor([num//10,label % 10])))"
   ]
  },
  {
   "cell_type": "code",
   "execution_count": 101,
   "id": "710fb208",
   "metadata": {},
   "outputs": [],
   "source": [
    "from torch.utils.data import DataLoader\n",
    "train_loader = DataLoader(updated_train_dataset, batch_size = 64, shuffle = True)\n",
    "test_loader = DataLoader(updated_test_dataset, batch_size = 64, shuffle = True)\n",
    "val_loader = DataLoader(updated_val_dataset, batch_size = 64, shuffle = True)"
   ]
  },
  {
   "cell_type": "markdown",
   "id": "925375ee",
   "metadata": {},
   "source": [
    "# 5.1.1"
   ]
  },
  {
   "cell_type": "code",
   "execution_count": 109,
   "id": "9d5cffba",
   "metadata": {},
   "outputs": [],
   "source": [
    "class MLP(nn.Module):\n",
    "    def __init__(self, input_size, hidden_layers , hidden_sizes, output_size):\n",
    "        super(MLP, self).__init__()\n",
    "        hidden_sizes = [input_size]+hidden_sizes\n",
    "        self.hidden_layers = hidden_layers\n",
    "        self.layers = nn.ModuleList([nn.Linear(hidden_sizes[idx-1], hidden_sizes[idx]) for idx in range(1,hidden_layers+1)])\n",
    "        self.relu = nn.ReLU()\n",
    "        self.fc2 = nn.Linear(hidden_sizes[-1], output_size)\n",
    "        self.softmax = nn.Softmax(dim=1)\n",
    "\n",
    "    def forward(self, x):\n",
    "        x = x[:,0,:,:].view(x.size(0), -1)  # Flatten the input\n",
    "        for layer in range(self.hidden_layers):\n",
    "            x = self.layers[layer](x)\n",
    "            x = self.relu(x)\n",
    "    \n",
    "        x = self.fc2(x)\n",
    "        digit1 = x[:,:10]\n",
    "        digit2 = x[:,10:]\n",
    "        return digit1,digit2"
   ]
  },
  {
   "cell_type": "code",
   "execution_count": 110,
   "id": "831d6669",
   "metadata": {},
   "outputs": [],
   "source": [
    "input_size = 64*64*1\n",
    "hidden_layers = 1\n",
    "hidden_sizes = [300]\n",
    "num_classes = 20 \n",
    "\n",
    "model = MLP(input_size, hidden_layers, hidden_sizes, num_classes)\n",
    "criterion = nn.CrossEntropyLoss()\n",
    "optimizer = optim.Adam(model.parameters(), lr=0.001)"
   ]
  },
  {
   "cell_type": "code",
   "execution_count": 111,
   "id": "7beb3499",
   "metadata": {},
   "outputs": [
    {
     "name": "stdout",
     "output_type": "stream",
     "text": [
      "Epoch 1, Training Loss: 2.5330052035383246\n",
      "Epoch 1, validation Loss: 2.2483158111572266\n",
      "Epoch 2, Training Loss: 1.0535978156387347\n",
      "Epoch 2, validation Loss: 1.8673821687698364\n",
      "Epoch 3, Training Loss: 0.6660839890960559\n",
      "Epoch 3, validation Loss: 1.8294150829315186\n",
      "Epoch 4, Training Loss: 0.4704396797481682\n",
      "Epoch 4, validation Loss: 1.8984211683273315\n",
      "Epoch 5, Training Loss: 0.34298301648344465\n",
      "Epoch 5, validation Loss: 1.891428828239441\n",
      "Epoch 6, Training Loss: 0.2539978012475447\n",
      "Epoch 6, validation Loss: 1.9708229303359985\n",
      "Epoch 7, Training Loss: 0.18666703398560217\n",
      "Epoch 7, validation Loss: 2.0438342094421387\n",
      "Epoch 8, Training Loss: 0.13345468172838432\n",
      "Epoch 8, validation Loss: 2.1021974086761475\n",
      "Epoch 9, Training Loss: 0.10600217924450238\n",
      "Epoch 9, validation Loss: 2.3022875785827637\n",
      "Epoch 10, Training Loss: 0.08535232289993053\n",
      "Epoch 10, validation Loss: 2.549259662628174\n"
     ]
    }
   ],
   "source": [
    "training_losses = []\n",
    "validation_losses = []\n",
    "best_validation = float('inf')\n",
    "for epoch in range(10):\n",
    "        model.train()\n",
    "        loss_train = 0.0\n",
    "        for inputs, labels in train_loader:\n",
    "            optimizer.zero_grad()\n",
    "            output1, output2 = model(inputs)\n",
    "            loss1 = criterion(output1, labels[:,0])\n",
    "            loss2 = criterion(output2, labels[:,1])\n",
    "            total = loss1 + loss2\n",
    "            loss_train += total.item()\n",
    "#             loss1.backward()\n",
    "#             loss2.backward()\n",
    "            total.backward()\n",
    "            optimizer.step()\n",
    "        \n",
    "        print(f\"Epoch {epoch + 1}, Training Loss: {loss_train / len(train_loader)}\")\n",
    "        training_losses.append(loss_train / len(train_loader))\n",
    "        \n",
    "        model.eval()\n",
    "        loss_eval = 0.0\n",
    "        with torch.no_grad():\n",
    "            for inputs, labels in val_loader:\n",
    "                output1, output2 = model(inputs)\n",
    "                loss1 = criterion(output1, labels[:,0])\n",
    "                loss2 = criterion(output2, labels[:,1])\n",
    "                total = loss1 + loss2\n",
    "                loss_eval += total\n",
    "        print(f\"Epoch {epoch + 1}, validation Loss: {loss_eval / len(val_loader)}\")\n",
    "        validation_losses.append(loss_eval / len(val_loader))\n",
    "        if(validation_losses[-1] < best_validation):\n",
    "            torch.save(model.state_dict(), 'Model/mlp.pth')\n",
    "\n",
    "if(validation_losses[-1] < best_validation):\n",
    "    torch.save(model.state_dict(), 'Model/mlp.pth')"
   ]
  },
  {
   "cell_type": "code",
   "execution_count": 112,
   "id": "7bfbb438",
   "metadata": {},
   "outputs": [
    {
     "data": {
      "image/png": "[encoded data removed]",
      "text/plain": [
       "<Figure size 640x480 with 1 Axes>"
      ]
     },
     "metadata": {},
     "output_type": "display_data"
    }
   ],
   "source": [
    "plt.plot(range(10), training_losses, color='red')\n",
    "plt.plot(range(10), validation_losses, color='green')\n",
    "plt.legend(['training losses','validation losses'])\n",
    "plt.title('Loss vs Epochs')\n",
    "plt.xlabel('Epochs')\n",
    "plt.ylabel('Loss')\n",
    "plt.show()"
   ]
  },
  {
   "cell_type": "code",
   "execution_count": 113,
   "id": "4588d0fc",
   "metadata": {},
   "outputs": [
    {
     "name": "stdout",
     "output_type": "stream",
     "text": [
      "Train Accuracy: 0.9763127067254685\n",
      "Validation Accuracy: 0.4901541095890411\n"
     ]
    }
   ],
   "source": [
    "model = MLP(input_size, hidden_layers, hidden_sizes, num_classes)\n",
    "model.load_state_dict(torch.load('Model/mlp.pth'))\n",
    "with torch.no_grad():\n",
    "    accuracy_train = 0\n",
    "    for inputs, labels in train_loader:\n",
    "        output1, output2 = model(inputs)\n",
    "        predicted_1 = torch.argmax(output1, dim = 1,keepdims = True)\n",
    "        predicted_2 = torch.argmax(output2, dim = 1, keepdims = True)\n",
    "        predicted_labels = torch.cat((predicted_1, predicted_2), dim = 1)\n",
    "        accuracy = 0\n",
    "        for idx in range(len(predicted_labels)):\n",
    "            if(labels[idx][0] == predicted_labels[idx][0] and labels[idx][1] == predicted_labels[idx][1]):\n",
    "                accuracy += 1\n",
    "#             difference = torch.sum(torch.where(labels != predicted_labels, 1.0, 0.0),dim = 1)\n",
    "\n",
    "        accuracy /= 64\n",
    "        accuracy_train += accuracy\n",
    "    print(f\"Train Accuracy: {accuracy_train / len(train_loader)}\")\n",
    "    \n",
    "    accuracy_val = 0\n",
    "    for inputs, labels in val_loader:\n",
    "        output1, output2 = model(inputs)\n",
    "        predicted_1 = torch.argmax(output1, dim = 1,keepdims = True)\n",
    "        predicted_2 = torch.argmax(output2, dim = 1, keepdims = True)\n",
    "        predicted_labels = torch.cat((predicted_1, predicted_2), dim = 1)\n",
    "        accuracy = 0\n",
    "        for idx in range(len(predicted_labels)):\n",
    "            if(labels[idx][0] == predicted_labels[idx][0] and labels[idx][1] == predicted_labels[idx][1]):\n",
    "                accuracy += 1\n",
    "#             difference = torch.sum(torch.where(labels != predicted_labels, 1.0, 0.0),dim = 1)\n",
    "\n",
    "        accuracy /= 64\n",
    "        accuracy_val += accuracy\n",
    "    print(f\"Validation Accuracy: {accuracy_val / len(val_loader)}\")"
   ]
  },
  {
   "cell_type": "code",
   "execution_count": 114,
   "id": "8ad99042",
   "metadata": {},
   "outputs": [
    {
     "name": "stdout",
     "output_type": "stream",
     "text": [
      "test Accuracy: 0.4876994680851064\n"
     ]
    }
   ],
   "source": [
    "with torch.no_grad():\n",
    "    accuracy_test = 0\n",
    "    for inputs, labels in test_loader:\n",
    "        output1, output2 = model(inputs)\n",
    "        predicted_1 = torch.argmax(output1, dim = 1,keepdims = True)\n",
    "        predicted_2 = torch.argmax(output2, dim = 1, keepdims = True)\n",
    "        predicted_labels = torch.cat((predicted_1, predicted_2), dim = 1)\n",
    "        accuracy = 0\n",
    "        for idx in range(len(predicted_labels)):\n",
    "            if(labels[idx][0] == predicted_labels[idx][0] and labels[idx][1] == predicted_labels[idx][1]):\n",
    "                accuracy += 1\n",
    "#             difference = torch.sum(torch.where(labels != predicted_labels, 1.0, 0.0),dim = 1)\n",
    "\n",
    "        accuracy /= 64\n",
    "        accuracy_test += accuracy\n",
    "    print(f\"test Accuracy: {accuracy_test / len(test_loader)}\")"
   ]
  },
  {
   "cell_type": "markdown",
   "id": "13509550",
   "metadata": {},
   "source": [
    "# 5.1.2"
   ]
  },
  {
   "cell_type": "code",
   "execution_count": 118,
   "id": "1a8fc90e",
   "metadata": {},
   "outputs": [],
   "source": [
    "class CNN(nn.Module):\n",
    "    def __init__(self,c_in, img_dim, num_classes=20):\n",
    "        super(CNN, self).__init__()\n",
    "#         image shape (N,c_in,dim,dim)\n",
    "        self.conv1 = nn.Conv2d(c_in, 32, kernel_size=3) # (N,c_out, dim-2,dim-2)\n",
    "        self.relu1 = nn.ReLU()\n",
    "        self.maxpool1 = nn.MaxPool2d(kernel_size=2) # (N,c_out, dim-2 // 2,dim-2 // 2)\n",
    "        self.conv2 = nn.Conv2d(32, 64, kernel_size=3) # (N,c_out2, dim-2 // 2 - 2,dim-2 // 2 - 2)\n",
    "        self.relu2 = nn.ReLU()\n",
    "        self.maxpool2 = nn.MaxPool2d(kernel_size=2) # (N,c_out2, (((dim-2) // 2) - 2) // 2,(((dim-2) // 2) - 2) // 2)\n",
    "        self.dropout = nn.Dropout2d(0.25)\n",
    "        last_dim = (((img_dim-2) // 2) - 2) // 2\n",
    "        self.fc1 = nn.Linear(64 *last_dim*last_dim, num_classes)\n",
    "        self.smax = nn.Softmax(dim=1)\n",
    "\n",
    "    def forward(self, x):\n",
    "        x = self.conv1(x[:,0:1,:,:])\n",
    "        x = self.relu1(x)\n",
    "        x = self.maxpool1(x)\n",
    "        x = self.conv2(x)\n",
    "        x = self.relu2(x)\n",
    "        x = self.maxpool2(x)\n",
    "        x = self.dropout(x)\n",
    "        x = x.reshape(x.size(0), -1)\n",
    "        x = self.fc1(x)\n",
    "        digit1 = x[:,:10]\n",
    "        digit2 = x[:,10:]\n",
    "#         x = self.smax(x)\n",
    "        return digit1, digit2"
   ]
  },
  {
   "cell_type": "code",
   "execution_count": 119,
   "id": "882620e9",
   "metadata": {},
   "outputs": [],
   "source": [
    "c_in = 1\n",
    "img_dim = 64\n",
    "\n",
    "model = CNN(c_in, img_dim, 20)\n",
    "optimizer = optim.Adam(model.parameters(), lr=0.001)"
   ]
  },
  {
   "cell_type": "code",
   "execution_count": 120,
   "id": "78689b38",
   "metadata": {},
   "outputs": [
    {
     "name": "stdout",
     "output_type": "stream",
     "text": [
      "Epoch 1, Training Loss: 1.5197721860374611\n",
      "Epoch 1, validation Loss: 1.197041392326355\n",
      "Epoch 2, Training Loss: 0.6165090982022858\n",
      "Epoch 2, validation Loss: 0.8973236680030823\n",
      "Epoch 3, Training Loss: 0.4516561945783264\n",
      "Epoch 3, validation Loss: 0.7864041924476624\n",
      "Epoch 4, Training Loss: 0.3644432473553975\n",
      "Epoch 4, validation Loss: 0.7488709092140198\n",
      "Epoch 5, Training Loss: 0.3099744611942387\n",
      "Epoch 5, validation Loss: 0.6757597327232361\n",
      "Epoch 6, Training Loss: 0.2673704374125669\n",
      "Epoch 6, validation Loss: 0.6271008253097534\n",
      "Epoch 7, Training Loss: 0.2396466538449698\n",
      "Epoch 7, validation Loss: 0.6917952299118042\n",
      "Epoch 8, Training Loss: 0.21522432007511633\n",
      "Epoch 8, validation Loss: 0.668820858001709\n",
      "Epoch 9, Training Loss: 0.1956216221451431\n",
      "Epoch 9, validation Loss: 0.6775615215301514\n",
      "Epoch 10, Training Loss: 0.18410460679261004\n",
      "Epoch 10, validation Loss: 0.6120672225952148\n"
     ]
    }
   ],
   "source": [
    "training_losses = []\n",
    "validation_losses = []\n",
    "best_validation = float('inf')\n",
    "for epoch in range(10):\n",
    "        model.train()\n",
    "        loss_train = 0.0\n",
    "        for inputs, labels in train_loader:\n",
    "            optimizer.zero_grad()\n",
    "            output1, output2 = model(inputs)\n",
    "            loss1 = criterion(output1, labels[:,0])\n",
    "            loss2 = criterion(output2, labels[:,1])\n",
    "            total = loss1 + loss2\n",
    "            loss_train += total.item()\n",
    "#             loss1.backward()\n",
    "#             loss2.backward()\n",
    "            total.backward()\n",
    "            optimizer.step()\n",
    "        \n",
    "        print(f\"Epoch {epoch + 1}, Training Loss: {loss_train / len(train_loader)}\")\n",
    "        training_losses.append(loss_train / len(train_loader))\n",
    "        \n",
    "        model.eval()\n",
    "        loss_eval = 0.0\n",
    "        with torch.no_grad():\n",
    "            for inputs, labels in val_loader:\n",
    "                output1, output2 = model(inputs)\n",
    "                loss1 = criterion(output1, labels[:,0])\n",
    "                loss2 = criterion(output2, labels[:,1])\n",
    "                total = loss1 + loss2\n",
    "                loss_eval += total\n",
    "        print(f\"Epoch {epoch + 1}, validation Loss: {loss_eval / len(val_loader)}\")\n",
    "        validation_losses.append(loss_eval / len(val_loader))\n",
    "        if(validation_losses[-1] < best_validation):\n",
    "            torch.save(model.state_dict(), 'Model/cnn.pth')\n",
    "\n",
    "if(validation_losses[-1] < best_validation):\n",
    "    torch.save(model.state_dict(), 'Model/cnn.pth')"
   ]
  },
  {
   "cell_type": "code",
   "execution_count": 121,
   "id": "335f4f4f",
   "metadata": {},
   "outputs": [
    {
     "data": {
      "image/png": "[encoded data removed]",
      "text/plain": [
       "<Figure size 640x480 with 1 Axes>"
      ]
     },
     "metadata": {},
     "output_type": "display_data"
    }
   ],
   "source": [
    "plt.plot(range(10), training_losses, color='red')\n",
    "plt.plot(range(10), validation_losses, color='green')\n",
    "plt.legend(['training losses','validation losses'])\n",
    "plt.title('Loss vs Epochs')\n",
    "plt.xlabel('Epochs')\n",
    "plt.ylabel('Loss')\n",
    "plt.show()"
   ]
  },
  {
   "cell_type": "code",
   "execution_count": 126,
   "id": "cdff3f3f",
   "metadata": {},
   "outputs": [
    {
     "name": "stdout",
     "output_type": "stream",
     "text": [
      "Train Accuracy: 0.9510749724366042\n",
      "test Accuracy: 0.7880851063829787\n"
     ]
    }
   ],
   "source": [
    "model = CNN(c_in, img_dim, 20)\n",
    "model.load_state_dict(torch.load('Model/cnn.pth'))\n",
    "with torch.no_grad():\n",
    "    accuracy_train = 0\n",
    "    for inputs, labels in train_loader:\n",
    "        output1, output2 = model(inputs)\n",
    "        predicted_1 = torch.argmax(output1, dim = 1,keepdims = True)\n",
    "        predicted_2 = torch.argmax(output2, dim = 1, keepdims = True)\n",
    "        predicted_labels = torch.cat((predicted_1, predicted_2), dim = 1)\n",
    "        accuracy = 0\n",
    "        for idx in range(len(predicted_labels)):\n",
    "            if(labels[idx][0] == predicted_labels[idx][0] and labels[idx][1] == predicted_labels[idx][1]):\n",
    "                accuracy += 1\n",
    "#             difference = torch.sum(torch.where(labels != predicted_labels, 1.0, 0.0),dim = 1)\n",
    "\n",
    "        accuracy /= 64\n",
    "        accuracy_train += accuracy\n",
    "    print(f\"Train Accuracy: {accuracy_train / len(train_loader)}\")\n",
    "    \n",
    "    accuracy_val = 0\n",
    "    for inputs, labels in val_loader:\n",
    "        output1, output2 = model(inputs)\n",
    "        predicted_1 = torch.argmax(output1, dim = 1,keepdims = True)\n",
    "        predicted_2 = torch.argmax(output2, dim = 1, keepdims = True)\n",
    "        predicted_labels = torch.cat((predicted_1, predicted_2), dim = 1)\n",
    "        accuracy = 0\n",
    "        for idx in range(len(predicted_labels)):\n",
    "            if(labels[idx][0] == predicted_labels[idx][0] and labels[idx][1] == predicted_labels[idx][1]):\n",
    "                accuracy += 1\n",
    "#             difference = torch.sum(torch.where(labels != predicted_labels, 1.0, 0.0),dim = 1)\n",
    "\n",
    "        accuracy /= 64\n",
    "        accuracy_val += accuracy\n",
    "    print(f\"Validation Accuracy: {accuracy_val / len(val_loader)}\")"
   ]
  },
  {
   "cell_type": "code",
   "execution_count": 127,
   "id": "2bbb5a20",
   "metadata": {},
   "outputs": [
    {
     "name": "stdout",
     "output_type": "stream",
     "text": [
      "test Accuracy: 0.7580851063829787\n"
     ]
    }
   ],
   "source": [
    "with torch.no_grad():\n",
    "    accuracy_test = 0\n",
    "    for inputs, labels in test_loader:\n",
    "        output1, output2 = model(inputs)\n",
    "        predicted_1 = torch.argmax(output1, dim = 1,keepdims = True)\n",
    "        predicted_2 = torch.argmax(output2, dim = 1, keepdims = True)\n",
    "        predicted_labels = torch.cat((predicted_1, predicted_2), dim = 1)\n",
    "        accuracy = 0\n",
    "        for idx in range(len(predicted_labels)):\n",
    "            if(labels[idx][0] == predicted_labels[idx][0] and labels[idx][1] == predicted_labels[idx][1]):\n",
    "                accuracy += 1\n",
    "#             difference = torch.sum(torch.where(labels != predicted_labels, 1.0, 0.0),dim = 1)\n",
    "\n",
    "        accuracy /= 64\n",
    "        accuracy_test += accuracy\n",
    "    print(f\"test Accuracy: {accuracy_test / len(test_loader)}\")"
   ]
  },
  {
   "cell_type": "markdown",
   "id": "92a4dd04",
   "metadata": {},
   "source": [
    "# 5.1.3"
   ]
  },
  {
   "cell_type": "code",
   "execution_count": 128,
   "id": "617041f4",
   "metadata": {},
   "outputs": [],
   "source": [
    "from PIL import Image"
   ]
  },
  {
   "cell_type": "code",
   "execution_count": 129,
   "id": "809e7776",
   "metadata": {},
   "outputs": [],
   "source": [
    "# Load MNIST dataset\n",
    "transform = transforms.Compose([transforms.ToTensor()])\n",
    "mnist_dataset = datasets.MNIST(\n",
    "    root='./data', \n",
    "    train=True, \n",
    "    transform=transform, \n",
    "    download=True\n",
    ")"
   ]
  },
  {
   "cell_type": "code",
   "execution_count": 130,
   "id": "b4cc3b32",
   "metadata": {},
   "outputs": [],
   "source": [
    "def resize_mnist_images(dataset, new_size):\n",
    "    resized_dataset = []\n",
    "\n",
    "    for image, label in dataset:\n",
    "        image = transforms.functional.to_pil_image(image)  # Convert to PIL image\n",
    "        image = transforms.functional.resize(image, new_size)\n",
    "        image = transforms.functional.to_tensor(image)  # Convert back to a PyTorch tensor\n",
    "        resized_dataset.append((image, label))\n",
    "\n",
    "    return resized_dataset"
   ]
  },
  {
   "cell_type": "code",
   "execution_count": 131,
   "id": "fe6e875e",
   "metadata": {},
   "outputs": [],
   "source": [
    "new_size = (64, 64)\n",
    "resized_mnist_dataset = resize_mnist_images(mnist_dataset, new_size)"
   ]
  },
  {
   "cell_type": "code",
   "execution_count": 133,
   "id": "ac356bef",
   "metadata": {},
   "outputs": [],
   "source": [
    "data_loader = DataLoader(resized_mnist_dataset, batch_size = 64, shuffle = True)"
   ]
  },
  {
   "cell_type": "code",
   "execution_count": 145,
   "id": "b61d57ec",
   "metadata": {},
   "outputs": [],
   "source": [
    "input_size = 64*64*1\n",
    "hidden_layers = 1\n",
    "hidden_sizes = [300]\n",
    "num_classes = 20 "
   ]
  },
  {
   "cell_type": "code",
   "execution_count": 146,
   "id": "7a3f239e",
   "metadata": {},
   "outputs": [
    {
     "name": "stdout",
     "output_type": "stream",
     "text": [
      "MNIST Accuracy: 0.14150786247334754\n"
     ]
    }
   ],
   "source": [
    "model = MLP(input_size, hidden_layers, hidden_sizes, num_classes)\n",
    "model.load_state_dict(torch.load('Model/mlp.pth'))\n",
    "with torch.no_grad():\n",
    "    accuracy_train = 0\n",
    "    for inputs, labels in data_loader:\n",
    "        output1, output2 = model(inputs)\n",
    "        predicted_1 = torch.argmax(output1, dim = 1,keepdims = True)\n",
    "        predicted_2 = torch.argmax(output2, dim = 1, keepdims = True)\n",
    "        predicted_labels = torch.cat((predicted_1, predicted_2), dim = 1)\n",
    "        accuracy = 0\n",
    "        for idx in range(len(predicted_labels)):\n",
    "            if(labels[idx] == predicted_labels[idx][0] or labels[idx] == predicted_labels[idx][1]):\n",
    "                accuracy += 1\n",
    "#             difference = torch.sum(torch.where(labels != predicted_labels, 1.0, 0.0),dim = 1)\n",
    "\n",
    "        accuracy /= 64\n",
    "        accuracy_train += accuracy\n",
    "    print(f\"MNIST Accuracy: {accuracy_train / len(data_loader)}\")"
   ]
  },
  {
   "cell_type": "code",
   "execution_count": 147,
   "id": "d9674a1c",
   "metadata": {},
   "outputs": [],
   "source": [
    "c_in = 1\n",
    "img_dim = 64"
   ]
  },
  {
   "cell_type": "code",
   "execution_count": 148,
   "id": "886b8e45",
   "metadata": {},
   "outputs": [
    {
     "name": "stdout",
     "output_type": "stream",
     "text": [
      "MNIST CNN Accuracy: 0.10770922174840085\n"
     ]
    }
   ],
   "source": [
    "model = CNN(c_in, img_dim, 20)\n",
    "model.load_state_dict(torch.load('Model/cnn.pth'))\n",
    "with torch.no_grad():\n",
    "    accuracy_train = 0\n",
    "    for inputs, labels in data_loader:\n",
    "        output1, output2 = model(inputs)\n",
    "        predicted_1 = torch.argmax(output1, dim = 1,keepdims = True)\n",
    "        predicted_2 = torch.argmax(output2, dim = 1, keepdims = True)\n",
    "        predicted_labels = torch.cat((predicted_1, predicted_2), dim = 1)\n",
    "        accuracy = 0\n",
    "        for idx in range(len(predicted_labels)):\n",
    "            if(labels[idx] == predicted_labels[idx][0] or labels[idx] == predicted_labels[idx][1]):\n",
    "                accuracy += 1\n",
    "#             difference = torch.sum(torch.where(labels != predicted_labels, 1.0, 0.0),dim = 1)\n",
    "\n",
    "        accuracy /= 64\n",
    "        accuracy_train += accuracy\n",
    "    print(f\"MNIST CNN Accuracy: {accuracy_train / len(data_loader)}\")"
   ]
  },
  {
   "cell_type": "markdown",
   "id": "65863b0c",
   "metadata": {},
   "source": [
    "### results\n",
    "The models dont perform well on the mnist dataset. This may be due to initially the models trained on 64 size images, now with mnist images resized to match the dimensions, thus changing the spatial arrangement of data"
   ]
  },
  {
   "cell_type": "markdown",
   "id": "2f8d4e85",
   "metadata": {},
   "source": [
    "# Analysis - DoubleDigit MNIST\n",
    "## MLP: (epochs 10)\n",
    "MLP with hyperparameters tuned on validation set shows severe overfitting. The architecture has enough representational power to grow to more than **95% accuracy** on the train set, however gives about **50%** accuracy on the validation and test set, with the Loss VS Epochs plot showing how the model shows overfitting since after 2-3 epochs only.\n",
    "## CNN: (epochs 10)\n",
    "CNN with hyperparameters tuned on validation set shows much higher generalisation. The architecture grows to more than **95%** on the train set as well as **~75-80%** on the validation and test set. The loss vs Epochs plot also shows how the model generalises much better than mlp with model not overfitting and adapting well till 5-6 epochs also after which the validation error, unlike the mlp, doesnt overshoot but stays in the same range. \n"
   ]
  },
  {
   "cell_type": "markdown",
   "id": "5317e8e7",
   "metadata": {},
   "source": [
    "# 5.2"
   ]
  },
  {
   "cell_type": "code",
   "execution_count": 70,
   "id": "fcbc31fe",
   "metadata": {},
   "outputs": [],
   "source": [
    "class CustomDataset(Dataset):\n",
    "    def __init__(self, train = 1):\n",
    "        data = np.load(\"Data/permuted_mnist.npz\")\n",
    "        if(train == 1):\n",
    "            self.x = torch.tensor(data[\"train_images\"], dtype = torch.float)\n",
    "            self.y = torch.tensor(data[\"train_labels\"])\n",
    "        else:\n",
    "            self.x = torch.tensor(data[\"test_images\"], dtype = torch.float)\n",
    "            self.y = torch.tensor(data[\"test_labels\"])\n",
    "\n",
    "    def __len__(self):\n",
    "        return len(self.x)\n",
    "\n",
    "    def __getitem__(self, idx):\n",
    "        img = self.x[idx].unsqueeze(0)\n",
    "        label = self.y[idx]\n",
    "\n",
    "        return img, label"
   ]
  },
  {
   "cell_type": "code",
   "execution_count": 71,
   "id": "22807736",
   "metadata": {},
   "outputs": [],
   "source": [
    "from torch.utils.data import random_split,DataLoader\n",
    "training = CustomDataset(1)\n",
    "training_size = len(training)\n",
    "train_size = 50000\n",
    "val_size = 10000\n",
    "train, val = random_split(training,[train_size, val_size])\n",
    "test = CustomDataset(0)"
   ]
  },
  {
   "cell_type": "code",
   "execution_count": 72,
   "id": "79886096",
   "metadata": {},
   "outputs": [],
   "source": [
    "train_loader = DataLoader(train, batch_size = 64, shuffle = True)\n",
    "test_loader = DataLoader(test, batch_size = 64, shuffle = True)\n",
    "val_loader = DataLoader(val, batch_size = 64, shuffle = True)"
   ]
  },
  {
   "cell_type": "markdown",
   "id": "b1b2a6dd",
   "metadata": {},
   "source": [
    "# 5.2.1"
   ]
  },
  {
   "cell_type": "code",
   "execution_count": 73,
   "id": "c0a8697c",
   "metadata": {},
   "outputs": [],
   "source": [
    "class MLP(nn.Module):\n",
    "    def __init__(self, input_size, hidden_layers , hidden_sizes, output_size):\n",
    "        super(MLP, self).__init__()\n",
    "        hidden_sizes = [input_size]+hidden_sizes\n",
    "        self.hidden_layers = hidden_layers\n",
    "        self.layers = nn.ModuleList([nn.Linear(hidden_sizes[idx-1], hidden_sizes[idx]) for idx in range(1,hidden_layers+1)])\n",
    "        self.relu = nn.ReLU()\n",
    "        self.fc2 = nn.Linear(hidden_sizes[-1], output_size)\n",
    "        self.softmax = nn.Softmax(dim=1)\n",
    "\n",
    "    def forward(self, x):\n",
    "        x = x.view(x.size(0), -1)  # Flatten the input\n",
    "        for layer in range(self.hidden_layers):\n",
    "            x = self.layers[layer](x)\n",
    "            x = self.relu(x)\n",
    "    \n",
    "        x = self.fc2(x)\n",
    "        return x"
   ]
  },
  {
   "cell_type": "code",
   "execution_count": 74,
   "id": "c40972f0",
   "metadata": {},
   "outputs": [],
   "source": [
    "input_size = 28*28*1\n",
    "hidden_layers = 1\n",
    "hidden_sizes = [300]\n",
    "num_classes = 10 \n",
    "\n",
    "model = MLP(input_size, hidden_layers, hidden_sizes, num_classes)\n",
    "criterion = nn.CrossEntropyLoss()\n",
    "optimizer = optim.Adam(model.parameters(), lr=0.001)"
   ]
  },
  {
   "cell_type": "code",
   "execution_count": 75,
   "id": "6ec90727",
   "metadata": {},
   "outputs": [
    {
     "name": "stdout",
     "output_type": "stream",
     "text": [
      "Epoch 1, Training Loss: 0.6660651430130944\n",
      "Epoch 1, validation Loss: 0.2363247733302177\n",
      "Epoch 2, Training Loss: 0.18300676653149736\n",
      "Epoch 2, validation Loss: 0.185792776494981\n",
      "Epoch 3, Training Loss: 0.1602166623116502\n",
      "Epoch 3, validation Loss: 0.1974633058761454\n",
      "Epoch 4, Training Loss: 0.15762954157740808\n",
      "Epoch 4, validation Loss: 0.23373239843180746\n",
      "Epoch 5, Training Loss: 0.15802374889243745\n",
      "Epoch 5, validation Loss: 0.2043148826979765\n",
      "Epoch 6, Training Loss: 0.15394980547590303\n",
      "Epoch 6, validation Loss: 0.27700076026101983\n",
      "Epoch 7, Training Loss: 0.14279889170182547\n",
      "Epoch 7, validation Loss: 0.3000130789698499\n",
      "Epoch 8, Training Loss: 0.14804180481505658\n",
      "Epoch 8, validation Loss: 0.3160959435597204\n",
      "Epoch 9, Training Loss: 0.13879913863285084\n",
      "Epoch 9, validation Loss: 0.2443680735362418\n",
      "Epoch 10, Training Loss: 0.12165165519351652\n",
      "Epoch 10, validation Loss: 0.25776066227592115\n"
     ]
    }
   ],
   "source": [
    "training_losses = []\n",
    "validation_losses = []\n",
    "best_validation = float('inf')\n",
    "for epoch in range(10):\n",
    "        model.train()\n",
    "        loss_train = 0.0\n",
    "        for inputs, labels in train_loader:\n",
    "            optimizer.zero_grad()\n",
    "            output = model(inputs)\n",
    "            loss = criterion(output, labels)\n",
    "            loss_train += loss.item()\n",
    "            loss.backward()\n",
    "            optimizer.step()\n",
    "        \n",
    "        print(f\"Epoch {epoch + 1}, Training Loss: {loss_train / len(train_loader)}\")\n",
    "        training_losses.append(loss_train / len(train_loader))\n",
    "        \n",
    "        model.eval()\n",
    "        loss_eval = 0.0\n",
    "        with torch.no_grad():\n",
    "            for inputs, labels in val_loader:\n",
    "                output = model(inputs)\n",
    "                loss = criterion(output, labels)\n",
    "                loss_eval += loss.item()\n",
    "        print(f\"Epoch {epoch + 1}, validation Loss: {loss_eval / len(val_loader)}\")\n",
    "        validation_losses.append(loss_eval / len(val_loader))\n",
    "        if(validation_losses[-1] < best_validation):\n",
    "            torch.save(model.state_dict(), 'Model/mlp_2.pth')\n",
    "\n",
    "if(validation_losses[-1] < best_validation):\n",
    "    torch.save(model.state_dict(), 'Model/mlp_2.pth')"
   ]
  },
  {
   "cell_type": "code",
   "execution_count": 76,
   "id": "ca3216bb",
   "metadata": {},
   "outputs": [
    {
     "data": {
      "image/png": "[encoded data removed]",
      "text/plain": [
       "<Figure size 640x480 with 1 Axes>"
      ]
     },
     "metadata": {},
     "output_type": "display_data"
    }
   ],
   "source": [
    "plt.plot(range(10), training_losses, color='red')\n",
    "plt.plot(range(10), validation_losses, color='green')\n",
    "plt.legend(['training losses','validation losses'])\n",
    "plt.title('Loss vs Epochs')\n",
    "plt.xlabel('Epochs')\n",
    "plt.ylabel('Loss')\n",
    "plt.show()"
   ]
  },
  {
   "cell_type": "code",
   "execution_count": 77,
   "id": "a2c51531",
   "metadata": {},
   "outputs": [
    {
     "name": "stdout",
     "output_type": "stream",
     "text": [
      "Train Accuracy: 0.977441668510437\n",
      "Validation Accuracy: 0.9599920511245728\n",
      "Testing Accuracy: 0.9621815085411072\n"
     ]
    }
   ],
   "source": [
    "model = MLP(input_size, hidden_layers, hidden_sizes, num_classes)\n",
    "model.load_state_dict(torch.load('Model/mlp_2.pth'))\n",
    "with torch.no_grad():\n",
    "    accuracy_train = 0\n",
    "    for inputs, labels in train_loader:\n",
    "        output = model(inputs)\n",
    "        predicted = torch.argmax(output, dim = 1)\n",
    "        correct = torch.sum(torch.where(predicted == labels,1.0,0.0))\n",
    "        accuracy_train += correct / len(labels)\n",
    "    print(f\"Train Accuracy: {accuracy_train / len(train_loader)}\")\n",
    "    \n",
    "    accuracy_val = 0\n",
    "    for inputs, labels in val_loader:\n",
    "        output = model(inputs)\n",
    "        predicted = torch.argmax(output, dim = 1)\n",
    "        correct = torch.sum(torch.where(predicted == labels,1.0,0.0))\n",
    "        accuracy_val += correct / len(labels)\n",
    "    print(f\"Validation Accuracy: {accuracy_val / len(val_loader)}\")\n",
    "    \n",
    "    accuracy_test = 0\n",
    "    for inputs, labels in test_loader:\n",
    "        output = model(inputs)\n",
    "        predicted = torch.argmax(output, dim = 1)\n",
    "        correct = torch.sum(torch.where(predicted == labels,1.0,0.0))\n",
    "        accuracy_test += correct / len(labels)\n",
    "    print(f\"Testing Accuracy: {accuracy_test / len(test_loader)}\")"
   ]
  },
  {
   "cell_type": "markdown",
   "id": "e898069b",
   "metadata": {},
   "source": [
    "# 5.2.2"
   ]
  },
  {
   "cell_type": "code",
   "execution_count": 78,
   "id": "1855929b",
   "metadata": {},
   "outputs": [],
   "source": [
    "class CNN(nn.Module):\n",
    "    def __init__(self,c_in, img_dim, num_classes=20):\n",
    "        super(CNN, self).__init__()\n",
    "#         image shape (N,c_in,dim,dim)\n",
    "        self.conv1 = nn.Conv2d(c_in, 32, kernel_size=3) # (N,c_out, dim-2,dim-2)\n",
    "        self.relu1 = nn.ReLU()\n",
    "        self.maxpool1 = nn.MaxPool2d(kernel_size=2) # (N,c_out, dim-2 // 2,dim-2 // 2)\n",
    "        self.conv2 = nn.Conv2d(32, 64, kernel_size=3) # (N,c_out2, dim-2 // 2 - 2,dim-2 // 2 - 2)\n",
    "        self.relu2 = nn.ReLU()\n",
    "        self.maxpool2 = nn.MaxPool2d(kernel_size=2) # (N,c_out2, (((dim-2) // 2) - 2) // 2,(((dim-2) // 2) - 2) // 2)\n",
    "        self.dropout = nn.Dropout2d(0.25)\n",
    "        last_dim = (((img_dim-2) // 2) - 2) // 2\n",
    "        self.fc1 = nn.Linear(64 *last_dim*last_dim, num_classes)\n",
    "        self.smax = nn.Softmax(dim=1)\n",
    "\n",
    "    def forward(self, x):\n",
    "        x = self.conv1(x)\n",
    "        x = self.relu1(x)\n",
    "        x = self.maxpool1(x)\n",
    "        x = self.conv2(x)\n",
    "        x = self.relu2(x)\n",
    "        x = self.maxpool2(x)\n",
    "        x = self.dropout(x)\n",
    "        x = x.reshape(x.size(0), -1)\n",
    "        x = self.fc1(x)\n",
    "#         x = self.smax(x)\n",
    "        return x"
   ]
  },
  {
   "cell_type": "code",
   "execution_count": 79,
   "id": "9993755d",
   "metadata": {},
   "outputs": [],
   "source": [
    "c_in = 1\n",
    "img_dim = 28\n",
    "\n",
    "model = CNN(c_in, img_dim, 10)\n",
    "optimizer = optim.Adam(model.parameters(), lr=0.001)"
   ]
  },
  {
   "cell_type": "code",
   "execution_count": 80,
   "id": "1c1b0d11",
   "metadata": {},
   "outputs": [
    {
     "name": "stdout",
     "output_type": "stream",
     "text": [
      "Epoch 1, Training Loss: 0.9461263394092813\n",
      "Epoch 1, validation Loss: 0.3624672523824273\n",
      "Epoch 2, Training Loss: 0.4338478617408239\n",
      "Epoch 2, validation Loss: 0.31353067450082983\n",
      "Epoch 3, Training Loss: 0.3621122765895503\n",
      "Epoch 3, validation Loss: 0.2575403708418843\n",
      "Epoch 4, Training Loss: 0.320970364991585\n",
      "Epoch 4, validation Loss: 0.23461191123648054\n",
      "Epoch 5, Training Loss: 0.2706748919937845\n",
      "Epoch 5, validation Loss: 0.2457568900908824\n",
      "Epoch 6, Training Loss: 0.24878115316047844\n",
      "Epoch 6, validation Loss: 0.20196025782994403\n",
      "Epoch 7, Training Loss: 0.22587083676434538\n",
      "Epoch 7, validation Loss: 0.19545241063282748\n",
      "Epoch 8, Training Loss: 0.20215216687287363\n",
      "Epoch 8, validation Loss: 0.18309394060189177\n",
      "Epoch 9, Training Loss: 0.18925888594144674\n",
      "Epoch 9, validation Loss: 0.17316728685596947\n",
      "Epoch 10, Training Loss: 0.1800708780160455\n",
      "Epoch 10, validation Loss: 0.18335380832290954\n"
     ]
    }
   ],
   "source": [
    "training_losses = []\n",
    "validation_losses = []\n",
    "best_validation = float('inf')\n",
    "for epoch in range(10):\n",
    "        model.train()\n",
    "        loss_train = 0.0\n",
    "        for inputs, labels in train_loader:\n",
    "            optimizer.zero_grad()\n",
    "            output = model(inputs)\n",
    "            loss = criterion(output, labels)\n",
    "            loss_train += loss.item()\n",
    "            loss.backward()\n",
    "            optimizer.step()\n",
    "        \n",
    "        print(f\"Epoch {epoch + 1}, Training Loss: {loss_train / len(train_loader)}\")\n",
    "        training_losses.append(loss_train / len(train_loader))\n",
    "        \n",
    "        model.eval()\n",
    "        loss_eval = 0.0\n",
    "        with torch.no_grad():\n",
    "            for inputs, labels in val_loader:\n",
    "                output = model(inputs)\n",
    "                loss = criterion(output, labels)\n",
    "                loss_eval += loss.item()\n",
    "        print(f\"Epoch {epoch + 1}, validation Loss: {loss_eval / len(val_loader)}\")\n",
    "        validation_losses.append(loss_eval / len(val_loader))\n",
    "        if(validation_losses[-1] < best_validation):\n",
    "            torch.save(model.state_dict(), 'Model/cnn_2.pth')\n",
    "\n",
    "if(validation_losses[-1] < best_validation):\n",
    "    torch.save(model.state_dict(), 'Model/cnn_2.pth')"
   ]
  },
  {
   "cell_type": "code",
   "execution_count": 81,
   "id": "ba558681",
   "metadata": {},
   "outputs": [
    {
     "data": {
      "image/png": "[encoded data removed]",
      "text/plain": [
       "<Figure size 640x480 with 1 Axes>"
      ]
     },
     "metadata": {},
     "output_type": "display_data"
    }
   ],
   "source": [
    "plt.plot(range(10), training_losses, color='red')\n",
    "plt.plot(range(10), validation_losses, color='green')\n",
    "plt.legend(['training losses','validation losses'])\n",
    "plt.title('Loss vs Epochs')\n",
    "plt.xlabel('Epochs')\n",
    "plt.ylabel('Loss')\n",
    "plt.show()"
   ]
  },
  {
   "cell_type": "code",
   "execution_count": 82,
   "id": "af6b5bc1",
   "metadata": {},
   "outputs": [
    {
     "name": "stdout",
     "output_type": "stream",
     "text": [
      "Train Accuracy: 0.948309600353241\n",
      "Validation Accuracy: 0.931329607963562\n",
      "Testing Accuracy: 0.9322253465652466\n"
     ]
    }
   ],
   "source": [
    "model = CNN(c_in, img_dim, 10)\n",
    "model.load_state_dict(torch.load('Model/cnn_2.pth'))\n",
    "with torch.no_grad():\n",
    "    accuracy_train = 0\n",
    "    for inputs, labels in train_loader:\n",
    "        output = model(inputs)\n",
    "        predicted = torch.argmax(output, dim = 1)\n",
    "        correct = torch.sum(torch.where(predicted == labels,1.0,0.0))\n",
    "        accuracy_train += correct / len(labels)\n",
    "    print(f\"Train Accuracy: {accuracy_train / len(train_loader)}\")\n",
    "    \n",
    "    accuracy_val = 0\n",
    "    for inputs, labels in val_loader:\n",
    "        output = model(inputs)\n",
    "        predicted = torch.argmax(output, dim = 1)\n",
    "        correct = torch.sum(torch.where(predicted == labels,1.0,0.0))\n",
    "        accuracy_val += correct / len(labels)\n",
    "    print(f\"Validation Accuracy: {accuracy_val / len(val_loader)}\")\n",
    "    \n",
    "    accuracy_test = 0\n",
    "    for inputs, labels in test_loader:\n",
    "        output = model(inputs)\n",
    "        predicted = torch.argmax(output, dim = 1)\n",
    "        correct = torch.sum(torch.where(predicted == labels,1.0,0.0))\n",
    "        accuracy_test += correct / len(labels)\n",
    "    print(f\"Testing Accuracy: {accuracy_test / len(test_loader)}\")"
   ]
  },
  {
   "cell_type": "markdown",
   "id": "cec7b079",
   "metadata": {},
   "source": [
    "# Analysis - Permuted MNIST\n",
    "## MLP: (epochs 10)\n",
    "MLP with hyperparameters tuned on validation set performs much better compared to Doubledigit MNIST. The mlp tuned is able to extract features of the data rather than memorizing specific pixel patterns such as density of pixel intensity, No.of pixels with higher intensity(Eg for '1' the intensity is less than that in case of '8'). The model performs with accuracy of **97%**. Although it shows little overfitting, MLP performs with accuracy of **95%** on the validation and test set\n",
    "## CNN: (epochs 10)\n",
    "CNN with hyperparameters tuned on validation set performs much better compared to Doubledigit MNIST. The CNN tuned is able to extract features of the data rather than memorizing specific pixel patterns such as density of pixel intensity, No.of pixels with higher intensity(Eg for '1' the intensity is less than that in case of '8'). The model performs with accuracy of **95%**. It shows much less overfitting as is evident in the lLoss VS Epochs graph and performs with accuracy of **95%** on the validation and test set.\n",
    "\n",
    "The mlp performs better than cnn because since there is no local neighbourhood patterns in the image, the use of cnn is not needed. The MLP on the other hand is not trained to learn of these features hence it generalises well."
   ]
  },
  {
   "cell_type": "markdown",
   "id": "e900845a",
   "metadata": {},
   "source": [
    "# 5.3\n",
    "- Analysis and graphs done for each dataset separately"
   ]
  },
  {
   "cell_type": "markdown",
   "id": "8bb2ea69",
   "metadata": {},
   "source": []
  }
 ],
 "metadata": {
  "kernelspec": {
   "display_name": "myenv",
   "language": "python",
   "name": "myenv"
  },
  "language_info": {
   "codemirror_mode": {
    "name": "ipython",
    "version": 3
   },
   "file_extension": ".py",
   "mimetype": "text/x-python",
   "name": "python",
   "nbconvert_exporter": "python",
   "pygments_lexer": "ipython3",
   "version": "3.11.5"
  }
 },
 "nbformat": 4,
 "nbformat_minor": 5
}

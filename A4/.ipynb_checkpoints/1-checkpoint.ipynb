{
 "cells": [
  {
   "cell_type": "code",
   "execution_count": 1,
   "id": "838f7dce",
   "metadata": {},
   "outputs": [],
   "source": [
    "import torch\n",
    "import torch.nn as nn\n",
    "import torch.optim as optim\n",
    "from torch.utils.data import DataLoader, Dataset\n",
    "import numpy as np\n",
    "import matplotlib.pyplot as plt\n",
    "import math"
   ]
  },
  {
   "cell_type": "code",
   "execution_count": 2,
   "id": "eabc2357",
   "metadata": {},
   "outputs": [],
   "source": [
    "torch.manual_seed(42)\n",
    "class dataset(Dataset):\n",
    "    def __init__(self, size):\n",
    "        self.means = torch.tensor([[0, 0], [2, 2], [-2, 2]], dtype=torch.float32)\n",
    "        self.sigma = math.sqrt(2)\n",
    "        self.len = size\n",
    "        \n",
    "    def __len__(self):\n",
    "        return self.len\n",
    "\n",
    "    def __getitem__(self, idx):\n",
    "        z1 = torch.normal(self.means[0], self.sigma)\n",
    "        z2 = torch.normal(self.means[1], self.sigma)\n",
    "        z3 = torch.normal(self.means[2], self.sigma)\n",
    "        return z1\n",
    "#         return 1/math.sqrt(3)*(z1+z2+z3)"
   ]
  },
  {
   "cell_type": "code",
   "execution_count": 3,
   "id": "21df72e9",
   "metadata": {},
   "outputs": [],
   "source": [
    "samples = dataset(10000)"
   ]
  },
  {
   "cell_type": "code",
   "execution_count": 4,
   "id": "02dc5109",
   "metadata": {},
   "outputs": [
    {
     "data": {
      "text/plain": [
       "tensor([-0.0283, -0.0077])"
      ]
     },
     "execution_count": 4,
     "metadata": {},
     "output_type": "execute_result"
    }
   ],
   "source": [
    "samples_loader = DataLoader(samples, batch_size = 50, shuffle = True)\n",
    "total_mean = torch.tensor([0, 0], dtype = torch.float32)\n",
    "for batch in samples_loader:\n",
    "    total_mean[0] += batch[:,0].mean()\n",
    "    total_mean[1] += batch[:,1].mean()\n",
    "total_mean = total_mean / len(samples_loader)\n",
    "total_mean"
   ]
  },
  {
   "cell_type": "code",
   "execution_count": null,
   "id": "b6fdd54e",
   "metadata": {},
   "outputs": [],
   "source": [
    "# Generator network\n",
    "class Generator(nn.Module):\n",
    "    def __init__(self, latent_dim):\n",
    "        super(Generator, self).__init__()\n",
    "        self.model = nn.Sequential(\n",
    "            nn.Linear(latent_dim, 128),\n",
    "            nn.ReLU(),\n",
    "            nn.Linear(128, 2)\n",
    "        )\n",
    "\n",
    "    def forward(self, z):\n",
    "        return self.model(z)\n",
    "\n",
    "# Discriminator network\n",
    "class Discriminator(nn.Module):\n",
    "    def __init__(self):\n",
    "        super(Discriminator, self).__init__()\n",
    "        self.model = nn.Sequential(\n",
    "            nn.Linear(2, 128),\n",
    "            nn.ReLU(),\n",
    "            nn.Linear(128, 1),\n",
    "            nn.Sigmoid()\n",
    "        )\n",
    "\n",
    "    def forward(self, x):\n",
    "        return self.model(x)\n"
   ]
  },
  {
   "cell_type": "code",
   "execution_count": null,
   "id": "ec130df1",
   "metadata": {},
   "outputs": [],
   "source": [
    "latent_dim = 10\n",
    "# Build the networks\n",
    "generator = Generator(latent_dim)\n",
    "discriminator = Discriminator()\n",
    "\n",
    "# Loss function and optimizers\n",
    "criterion = nn.BCELoss()\n",
    "optimizer_G = optim.Adam(generator.parameters(), lr=0.001)\n",
    "optimizer_D = optim.Adam(discriminator.parameters(), lr=0.001)\n",
    "\n",
    "# Training the GAN\n",
    "epochs = 100\n",
    "batch_size = 50\n",
    "losses_d = []\n",
    "losses_g = []\n",
    "\n",
    "for epoch in range(epochs):\n",
    "    batch = 1\n",
    "    running_d = 0.0\n",
    "    running_g = 0.0\n",
    "    for sample in samples_loader:\n",
    "        # Generate real and fake samples\n",
    "        real_samples = sample\n",
    "        fake_samples = generator(torch.randn(batch_size, latent_dim))\n",
    "\n",
    "        # Labels for real and fake samples\n",
    "        real_labels = torch.ones((batch_size, 1))\n",
    "        fake_labels = torch.zeros((batch_size, 1))\n",
    "\n",
    "        # Train discriminator\n",
    "        optimizer_D.zero_grad()\n",
    "        d_loss_real = criterion(discriminator(real_samples), real_labels)\n",
    "        d_loss_fake = criterion(discriminator(fake_samples.detach()), fake_labels)\n",
    "        d_loss = d_loss_real + d_loss_fake\n",
    "        d_loss.backward()\n",
    "        optimizer_D.step()\n",
    "\n",
    "        # Train generator\n",
    "        optimizer_G.zero_grad()\n",
    "        g_loss = criterion(discriminator(fake_samples), real_labels)\n",
    "        g_loss.backward()\n",
    "        optimizer_G.step()\n",
    "\n",
    "        # Print progress\n",
    "        print(f\"Epoch {epoch}, batch {batch} D Loss: {d_loss.item()}, G Loss: {g_loss.item()}\")\n",
    "        running_d += d_loss.item()\n",
    "        running_g += g_loss.item()\n",
    "        batch += 1\n",
    "    losses_d.append(running_d / len(samples_loader))\n",
    "    losses_g.append(running_g / len(samples_loader))\n",
    "\n"
   ]
  },
  {
   "cell_type": "code",
   "execution_count": null,
   "id": "b0e55d5a",
   "metadata": {},
   "outputs": [],
   "source": [
    "plt.plot(range(epochs), losses_d)\n",
    "plt.title('D-Loss vs Epochs')\n",
    "plt.show()"
   ]
  },
  {
   "cell_type": "code",
   "execution_count": null,
   "id": "20a348cc",
   "metadata": {},
   "outputs": [],
   "source": [
    "plt.plot(range(epochs), losses_g)\n",
    "plt.title('G-Loss vs Epochs')\n",
    "plt.show()"
   ]
  },
  {
   "cell_type": "code",
   "execution_count": null,
   "id": "084e2bd9",
   "metadata": {},
   "outputs": [],
   "source": [
    "# Generate samples using the trained generator\n",
    "generated_samples = generator(torch.randn(3000, latent_dim)).detach()\n",
    "gen_mean = torch.tensor([0, 0], dtype = torch.float32)\n",
    "gen_mean[0] = generated_samples[:,0].mean()\n",
    "gen_mean[1] = generated_samples[:,1].mean()"
   ]
  },
  {
   "cell_type": "code",
   "execution_count": null,
   "id": "655998a7",
   "metadata": {},
   "outputs": [],
   "source": [
    "# Plot the generated samples\n",
    "plt.hist2d(generated_samples[:, 0], generated_samples[:, 1])\n",
    "plt.colorbar()\n",
    "plt.plot(total_mean[0], total_mean[1],label='Real Mean', marker='x', color='red')\n",
    "plt.plot(gen_mean[0], gen_mean[1],label='Generated Mean', marker='x', color='black')\n",
    "plt.legend()\n",
    "plt.show()"
   ]
  },
  {
   "cell_type": "code",
   "execution_count": null,
   "id": "82d59bda",
   "metadata": {},
   "outputs": [],
   "source": [
    "# Create a 2D histogram\n",
    "hist, x_edges, y_edges = np.histogram2d(generated_samples[:, 0], generated_samples[:, 1], bins=20)\n",
    "\n",
    "# Get bin centers for x and y\n",
    "x_centers = (x_edges[:-1] + x_edges[1:]) / 2\n",
    "y_centers = (y_edges[:-1] + y_edges[1:]) / 2\n",
    "\n",
    "# Create a meshgrid from bin centers\n",
    "x_mesh, y_mesh = np.meshgrid(x_centers, y_centers)\n",
    "\n",
    "# Create a 3D plot\n",
    "fig = plt.figure(figsize=(10, 8))\n",
    "ax = fig.add_subplot(111, projection='3d')\n",
    "\n",
    "# Plot the 3D surface\n",
    "ax.plot_surface(x_mesh, y_mesh, hist.T, cmap='viridis')\n",
    "\n",
    "# Add labels\n",
    "ax.set_xlabel('X-axis')\n",
    "ax.set_ylabel('Y-axis')\n",
    "ax.set_zlabel('Frequency')\n",
    "\n",
    "# Show the plot\n",
    "plt.show()"
   ]
  },
  {
   "cell_type": "code",
   "execution_count": null,
   "id": "592cbcad",
   "metadata": {},
   "outputs": [],
   "source": []
  }
 ],
 "metadata": {
  "kernelspec": {
   "display_name": "myenv",
   "language": "python",
   "name": "myenv"
  },
  "language_info": {
   "codemirror_mode": {
    "name": "ipython",
    "version": 3
   },
   "file_extension": ".py",
   "mimetype": "text/x-python",
   "name": "python",
   "nbconvert_exporter": "python",
   "pygments_lexer": "ipython3",
   "version": "3.11.5"
  },
  "varInspector": {
   "cols": {
    "lenName": 16,
    "lenType": 16,
    "lenVar": 40
   },
   "kernels_config": {
    "python": {
     "delete_cmd_postfix": "",
     "delete_cmd_prefix": "del ",
     "library": "var_list.py",
     "varRefreshCmd": "print(var_dic_list())"
    },
    "r": {
     "delete_cmd_postfix": ") ",
     "delete_cmd_prefix": "rm(",
     "library": "var_list.r",
     "varRefreshCmd": "cat(var_dic_list()) "
    }
   },
   "types_to_exclude": [
    "module",
    "function",
    "builtin_function_or_method",
    "instance",
    "_Feature"
   ],
   "window_display": false
  }
 },
 "nbformat": 4,
 "nbformat_minor": 5
}
